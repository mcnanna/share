







{
 "cells": [
  {
   "cell_type": "code",
   "execution_count": 1,
   "metadata": {},
   "outputs": [],
   "source": [
    "import numpy as np\n",
    "import astropy.io.fits as fits\n",
    "import galsim\n",
    "import coord\n",
    "import matplotlib.pyplot as plt\n",
    "from matplotlib.colors import LogNorm"
   ]
  },
  {
   "cell_type": "code",
   "execution_count": 2,
   "metadata": {},
   "outputs": [],
   "source": [
    "# Choose one image to work with. We can maybe try to combine multiple images in the future\n",
    "image = fits.open('/global/cfs/cdirs/lsst/shared/external/roman/v0.1_static/images/dc2_test_F184_135549.fits.gz')"
   ]
  },
  {
   "cell_type": "code",
   "execution_count": 29,
   "metadata": {},
   "outputs": [],
   "source": [
    "# Functions to load the data (the matrix of photon counts) and the header \n",
    "# (contains basic information such as target RA, DEC) of a single SCA\n",
    "def get_sca_data(sca):\n",
    "    return image[sca-1].data\n",
    "def get_sca_header(sca):\n",
    "    return image[sca-1].header\n",
    "\n",
    "# Function to load the World Coordinate System (WCS), which converts\n",
    "# from SCA coordinates (pixel locations) to sky coordinates (RA, DEC)\n",
    "# and vice versa. \n",
WCS_intro.ipynb lines 1-42/191 0%
