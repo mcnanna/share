{
 "cells": [
  {
   "cell_type": "code",
   "execution_count": 1,
   "metadata": {},
   "outputs": [],
   "source": [
    "import astropy.io.fits as fits\n",
    "import numpy as np"
   ]
  },
  {
   "cell_type": "code",
   "execution_count": 2,
   "metadata": {},
   "outputs": [],
   "source": [
    "# Open catalogs\n",
    "star_index_catalog = fits.open('/global/cfs/cdirs/lsst/shared/external/roman/v0.1_static/truth/dc2_test_index_star.fits')[1].data\n",
    "observing_sequence = fits.open('/global/cfs/cdirs/lsst/shared/external/roman/v0.1_static/truth/observing_sequence_hlsonly_5yr.fits')[1].data"
   ]
  },
  {
   "cell_type": "code",
   "execution_count": 4,
   "metadata": {},
   "outputs": [],
   "source": [
    "### Build new array\n",
    "# Initialize new array. 7 columns, defined here. \n",
    "columns = [('ind',int), ('ra',float), ('dec',float), ('mag_1',float), ('mag_2',float), ('mag_3',float), ('mag_4',float)]\n",
    "array = np.zeros((len(star_index_catalog), len(columns)))\n",
    "\n",
    "# Fill in inds, ras, decs. \n",
    "array[:, 0] = star_index_catalog['ind']\n",
    "array[:, 1] = star_index_catalog['ra'] # Still radians\n",
    "array[:, 2] = star_index_catalog['dec'] # Still radians"
   ]
  },
  {
   "cell_type": "code",
   "execution_count": 5,
   "metadata": {},
   "outputs": [],
   "source": [
    "### Grab filters from observing_sequence based on dither in star_index_catalog, then fill in mags in those filters\n",
    "dithers = star_index_catalog['dither']\n",
    "observing_sequence_reordered = observing_sequence[dithers]\n",
    "# observing_sequence_reordered matches 1-to-1 with star_index_catalog\n",
    "filters = observing_sequence_reordered['filter']\n",
    "\n",
    "# Fill mag_i into array for each filter 1-4:\n",
    "for i in [1, 2, 3, 4]:\n",
    "    # This line fills mag_i with whatever is in star_index_catalog['mag'] if filter==i on that line, otherwise it fills in 0.\n",
    "    mag_i = np.where(filters==i, star_index_catalog['mag'], 0)\n",
    "    array[:, i+2] = mag_i # i+2 is because in columns, mag_1 is at index 3, mag_2 at index 4, so on. "
   ]
  },
  {
   "cell_type": "code",
   "execution_count": 53,
   "metadata": {},
   "outputs": [
    {
     "name": "stdout",
     "output_type": "stream",
     "text": [
      "CPU times: user 1.35 s, sys: 16.1 ms, total: 1.37 s\n",
      "Wall time: 1.37 s\n"
     ]
    }
   ],
   "source": [
    "%%time\n",
    "### Condense observations of the same star in different filters into one line. \n",
    "# Get unique inds, as well as their locations in array\n",
    "unique_inds, indexes = np.unique(array[:, 0], return_index=True)\n",
    "\n",
    "# Instead of modifying unique_array, build new one of the correct length, one line per unique star. \n",
    "final_array = np.zeros((len(unique_inds), len(columns)))\n",
    "final_array[:, 0] = unique_inds\n",
    "# Pull ras and decs from array using indexes of unique_inds\n",
    "final_array[:, 1] = np.degrees(array[indexes, 1])\n",
    "final_array[:, 2] = np.degrees(array[indexes, 2])\n",
    "\n",
    "j = -1 # Index into final_array. Labels the line we're currently modifiying. \n",
    "ind_ref = None # Which ind we're currently pulling mags for. \n",
    "# Loop through lines of array, and based on ind, fill in the mags of the appropriate line of final_array if they haven't \n",
    "# alreayd been filled in\n",
    "for line in array:\n",
    "    ind = line[0]\n",
    "    if ind != ind_ref:\n",
    "        j += 1\n",
    "        ind_ref = ind\n",
    "    \n",
    "    for filter in [1, 2, 3, 4]:\n",
    "        if final_array[j][filter+2] <= 0 and line[filter+2] > 0:\n",
    "            final_array[j][filter+2] = line[filter+2]\n",
    "\n",
    "final_array = np.core.records.fromarrays(final_array.T, dtype=columns)"
   ]
  }
 ],
 "metadata": {
  "kernelspec": {
   "display_name": "desc-python",
   "language": "python",
   "name": "desc-python"
  },
  "language_info": {
   "codemirror_mode": {
    "name": "ipython",
    "version": 3
   },
   "file_extension": ".py",
   "mimetype": "text/x-python",
   "name": "python",
   "nbconvert_exporter": "python",
   "pygments_lexer": "ipython3",
   "version": "3.7.6"
  }
 },
 "nbformat": 4,
 "nbformat_minor": 4
}
